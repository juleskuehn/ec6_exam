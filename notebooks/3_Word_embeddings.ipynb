{
 "cells": [
  {
   "cell_type": "markdown",
   "metadata": {},
   "source": [
    "# Data Science Fellowship program exam\n",
    "\n",
    "**Machine Learning - Assignment 2: Natural disasters dataset**\n",
    "\n",
    "By: Jules Kuehn\n",
    "\n",
    "Due: 2020-12-03, 6pm Eastern"
   ]
  },
  {
   "cell_type": "markdown",
   "metadata": {},
   "source": [
    "## Task 3: Pre-trained word embeddings + linear classifier model\n",
    "\n",
    "Not implemented, but would be nice:\n",
    "* Common functions moved to python module, to be imported into multiple notebooks.\n",
    "* (Some code is duplicated here from the previous notebook.)"
   ]
  },
  {
   "cell_type": "markdown",
   "metadata": {},
   "source": [
    "### Setup"
   ]
  },
  {
   "cell_type": "code",
   "execution_count": 1,
   "metadata": {},
   "outputs": [
    {
     "name": "stdout",
     "output_type": "stream",
     "text": [
      "^C\n",
      "Note: you may need to restart the kernel to use updated packages.\n"
     ]
    }
   ],
   "source": [
    "%pip install -r ../requirements.txt -q"
   ]
  },
  {
   "cell_type": "code",
   "execution_count": 2,
   "metadata": {},
   "outputs": [
    {
     "name": "stdout",
     "output_type": "stream",
     "text": [
      "✔ Download and installation successful\n",
      "You can now load the package via spacy.load('en_core_web_sm')\n"
     ]
    }
   ],
   "source": [
    "import sys\n",
    "!{sys.executable} -m spacy download en_core_web_sm -q"
   ]
  },
  {
   "cell_type": "code",
   "execution_count": 24,
   "metadata": {},
   "outputs": [
    {
     "name": "stderr",
     "output_type": "stream",
     "text": [
      "Downloading: 100%|██████████| 399/399 [00:00<00:00, 199kB/s]\n",
      "Downloading: 100%|██████████| 5.99k/5.99k [00:00<00:00, 5.99MB/s]\n",
      "Downloading: 100%|██████████| 629/629 [00:00<00:00, 629kB/s]\n",
      "Downloading: 100%|██████████| 81.6k/81.6k [00:00<00:00, 1.24MB/s]\n",
      "Downloading: 100%|██████████| 268M/268M [00:08<00:00, 31.2MB/s] \n",
      "Downloading: 100%|██████████| 268M/268M [00:08<00:00, 31.4MB/s] \n",
      "Downloading: 100%|██████████| 48.0/48.0 [00:00<00:00, 24.0kB/s]\n",
      "Downloading: 100%|██████████| 232k/232k [00:00<00:00, 1.69MB/s]\n",
      "No sentence-transformers model found with name C:\\Users\\JKUEHN/.cache\\torch\\sentence_transformers\\distilbert-base-uncased-finetuned-sst-2-english. Creating a new one with MEAN pooling.\n",
      "Some weights of the model checkpoint at C:\\Users\\JKUEHN/.cache\\torch\\sentence_transformers\\distilbert-base-uncased-finetuned-sst-2-english were not used when initializing DistilBertModel: ['classifier.bias', 'pre_classifier.weight', 'pre_classifier.bias', 'classifier.weight']\n",
      "- This IS expected if you are initializing DistilBertModel from the checkpoint of a model trained on another task or with another architecture (e.g. initializing a BertForSequenceClassification model from a BertForPreTraining model).\n",
      "- This IS NOT expected if you are initializing DistilBertModel from the checkpoint of a model that you expect to be exactly identical (initializing a BertForSequenceClassification model from a BertForSequenceClassification model).\n"
     ]
    }
   ],
   "source": [
    "# Suppress warnings for cleaner output\n",
    "def warn(*args, **kwargs):\n",
    "    pass\n",
    "\n",
    "import warnings\n",
    "\n",
    "warnings.warn = warn\n",
    "\n",
    "import re\n",
    "from itertools import product\n",
    "\n",
    "import matplotlib.pyplot as plt\n",
    "import numpy as np\n",
    "import pandas as pd\n",
    "import spacy\n",
    "from sentence_transformers import SentenceTransformer\n",
    "from sklearn.ensemble import RandomForestClassifier\n",
    "from sklearn.feature_extraction.text import CountVectorizer, TfidfTransformer\n",
    "from sklearn.linear_model import LogisticRegression, SGDClassifier\n",
    "from sklearn.metrics import (ConfusionMatrixDisplay, classification_report,\n",
    "                             confusion_matrix, f1_score)\n",
    "from sklearn.model_selection import train_test_split\n",
    "from sklearn.naive_bayes import MultinomialNB\n",
    "from sklearn.pipeline import Pipeline\n",
    "from sklearn.preprocessing import StandardScaler\n",
    "from sklearn.svm import SVC, LinearSVC\n",
    "from wordcloud import WordCloud\n",
    "\n",
    "bert_model = SentenceTransformer('all-MiniLM-L6-v2') # W = 384\n",
    "lg_bert_model = SentenceTransformer('distilbert-base-uncased-finetuned-sst-2-english') # W = 768"
   ]
  },
  {
   "cell_type": "markdown",
   "metadata": {},
   "source": [
    "### Import data\n",
    "Use Pandas to import the CSV to a Dataframe. For a larger dataset, I would use Spark for pre-processing steps."
   ]
  },
  {
   "cell_type": "code",
   "execution_count": 4,
   "metadata": {},
   "outputs": [],
   "source": [
    "train_df = pd.read_csv('../data/raw/train.csv')\n",
    "disaster_tweets = train_df[train_df['target'] == 1]['text'].tolist()\n",
    "non_disaster_tweets = train_df[train_df['target'] == 0]['text'].tolist()"
   ]
  },
  {
   "cell_type": "markdown",
   "metadata": {},
   "source": [
    "### Embed tweets into W-dimensional vector\n",
    "\n",
    "This is trivially easy with spacy.\n",
    "\n",
    "However, we will want to try a few different methods.\n",
    "\n",
    "Since our pre-processing (lowercasing, punctuation stripping) is no longer handled by CountVectorizer, that should be added back in."
   ]
  },
  {
   "cell_type": "code",
   "execution_count": 5,
   "metadata": {},
   "outputs": [],
   "source": [
    "def preprocess_texts(\n",
    "    texts,\n",
    "    replace_numbers=True,\n",
    "    replace_mentions=True,\n",
    "    replace_hashtags=True,\n",
    "):\n",
    "    \"\"\"\n",
    "    Preprocess texts for NLP.\n",
    "    Takes a list or Series of texts and returns a list of preprocessed texts.\n",
    "    \"\"\"\n",
    "    if isinstance(texts, pd.Series):\n",
    "        texts = texts.tolist()\n",
    "    \n",
    "    for i, text in enumerate(texts):\n",
    "        if replace_numbers:\n",
    "            # Replace any substring of digits with ' number ' using regex\n",
    "            text = re.sub(r'\\d+', ' number ', text)\n",
    "        if replace_mentions:\n",
    "            # For pre-trained embeddings, we want to use common words\n",
    "            text = text.replace('@', ' at ')\n",
    "        if replace_hashtags:\n",
    "            text = text.replace('#', ' hashtag ')\n",
    "        # Remove URLs\n",
    "        text = re.sub(r'http\\S+', '', text)\n",
    "        # Remove punctuation\n",
    "        text = re.sub(r'[^\\w\\s]', '', text)\n",
    "        # Remove extra whitespace\n",
    "        text = re.sub(r'\\s+', ' ', text)\n",
    "        # Remove leading and trailing whitespace\n",
    "        text = text.strip()\n",
    "        texts[i] = text\n",
    "    return texts\n"
   ]
  },
  {
   "cell_type": "markdown",
   "metadata": {},
   "source": [
    "#### Spacy document embedding\n",
    "\n",
    "The advantage of getting an embedding for a single document is ease of use, but it is not as interpretable or flexible as per-word embeddings.\n",
    "\n",
    "This is the **mean vector** of the individual word embeddings.\n",
    "\n",
    "Note that we will no longer be able to identify which words contribute to the prediction."
   ]
  },
  {
   "cell_type": "code",
   "execution_count": 25,
   "metadata": {},
   "outputs": [],
   "source": [
    "# Load the spacy model\n",
    "# Note: better performance with larger models, but slower to load\n",
    "nlp = spacy.load('en_core_web_sm') # W = 96\n",
    "\n",
    "def embed_text_spacy(texts):\n",
    "    \"\"\"\n",
    "    Embed a list of text using a spacy model.\n",
    "    \"\"\"\n",
    "    return np.array([nlp(text).vector for text in texts])\n"
   ]
  },
  {
   "cell_type": "markdown",
   "metadata": {},
   "source": [
    "#### BERT sentence embeddings\n",
    "\n",
    "A more current approach is to rely on a pre-trained transformer network (e.g. BERT) to directly create a sentence embedding for each tweet, which is more representative of the meaning than simply averaging the word vectors."
   ]
  },
  {
   "cell_type": "code",
   "execution_count": 26,
   "metadata": {},
   "outputs": [],
   "source": [
    "def embed_text_sbert_sm(texts):\n",
    "    \"\"\"\n",
    "    Embed a list of text using a sentence transformer model.\n",
    "    \"\"\"\n",
    "    return bert_model.encode(texts)\n",
    "\n",
    "def embed_text_sbert_lg(texts):\n",
    "    \"\"\"\n",
    "    Embed a list of text using a sentence transformer model.\n",
    "    \"\"\"\n",
    "    return lg_bert_model.encode(texts)"
   ]
  },
  {
   "cell_type": "markdown",
   "metadata": {},
   "source": [
    "### Model training and evaluation\n",
    "\n",
    "Note that I am not using the test data at this time. I am only using the training data while testing pre-processing hyperparameters.\n",
    "\n",
    "(We will use the test data in the last task of this exam, to compare all models.)"
   ]
  },
  {
   "cell_type": "code",
   "execution_count": 27,
   "metadata": {},
   "outputs": [],
   "source": [
    "def evaluate_embeddings(\n",
    "    train_df,\n",
    "    embedding_function,\n",
    "    clean=False,\n",
    "    verbose=False,\n",
    "    return_artifacts=False,\n",
    "    max_iter=1000,\n",
    "):\n",
    "\n",
    "    texts = train_df['text']\n",
    "    if clean:\n",
    "        texts = preprocess_texts(texts)\n",
    "    \n",
    "    X_train = embedding_function(texts)\n",
    "    y_train = train_df['target']\n",
    "\n",
    "    # Split the training data into training and validation sets\n",
    "    X_train, X_val, y_train, y_val = train_test_split(\n",
    "        X_train,\n",
    "        y_train,\n",
    "        test_size=0.2,\n",
    "        random_state=42,\n",
    "    )\n",
    "\n",
    "    model = SGDClassifier(\n",
    "        max_iter=max_iter,\n",
    "    )\n",
    "\n",
    "    model.fit(X_train, y_train)\n",
    "\n",
    "    # Make predictions on the validation set\n",
    "    preds_val = model.predict(X_val)\n",
    "\n",
    "    if verbose:\n",
    "        # Display results on validation set\n",
    "        print(classification_report(y_val, preds_val))\n",
    "        ConfusionMatrixDisplay.from_estimator(model, X_val, y_val, cmap='Blues', normalize='true')\n",
    "    \n",
    "    if return_artifacts:\n",
    "        return embedding_function, model, X_train, X_val, y_train, y_val\n",
    "\n",
    "    # Return f1 macro average score\n",
    "    return f1_score(y_val, preds_val, average='macro')\n"
   ]
  },
  {
   "cell_type": "markdown",
   "metadata": {},
   "source": [
    "### Selecting a model"
   ]
  },
  {
   "cell_type": "code",
   "execution_count": 28,
   "metadata": {},
   "outputs": [
    {
     "name": "stdout",
     "output_type": "stream",
     "text": [
      "F1 macro: 0.811\n",
      "F1 macro: 0.806\n",
      "F1 macro: 0.813\n",
      "F1 macro: 0.811\n",
      "F1 macro: 0.782\n",
      "F1 macro: 0.777\n",
      "F1 macro: 0.773\n",
      "F1 macro: 0.769\n",
      "F1 macro: 0.677\n",
      "F1 macro: 0.675\n",
      "F1 macro: 0.692\n",
      "F1 macro: 0.673\n",
      "Best result:\n",
      " ({'embedding_function': <function embed_text_sbert_sm at 0x0000021B4AC174C0>, 'clean': False, 'max_iter': 1000}, 0.8130009998070549)\n",
      "              precision    recall  f1-score   support\n",
      "\n",
      "           0       0.82      0.88      0.85       874\n",
      "           1       0.82      0.75      0.78       649\n",
      "\n",
      "    accuracy                           0.82      1523\n",
      "   macro avg       0.82      0.81      0.82      1523\n",
      "weighted avg       0.82      0.82      0.82      1523\n",
      "\n"
     ]
    },
    {
     "data": {
      "text/plain": [
       "0.8152035430443487"
      ]
     },
     "execution_count": 28,
     "metadata": {},
     "output_type": "execute_result"
    },
    {
     "data": {
      "image/png": "[encoded data removed]",
      "text/plain": [
       "<Figure size 640x480 with 2 Axes>"
      ]
     },
     "metadata": {},
     "output_type": "display_data"
    }
   ],
   "source": [
    "def grid_parameters(parameters):\n",
    "    for params in product(*parameters.values()):\n",
    "        yield dict(zip(parameters.keys(), params))\n",
    "\n",
    "parameters = {\n",
    "    'embedding_function': [embed_text_sbert_sm, embed_text_sbert_lg, embed_text_spacy],\n",
    "    'clean': [True, False],\n",
    "    'max_iter': [1000, 2000]\n",
    "}\n",
    "\n",
    "results = []\n",
    "\n",
    "for settings in grid_parameters(parameters):\n",
    "    f1_macro = evaluate_embeddings(train_df, **settings, verbose=False)\n",
    "    results.append((settings, f1_macro))\n",
    "    print(f'F1 macro: {f1_macro:.3f}')\n",
    "\n",
    "best_result = max(results, key=lambda x: x[1])\n",
    "print(\"Best result:\\n\", best_result)\n",
    "\n",
    "evaluate_embeddings(train_df, **best_result[0], verbose=True)"
   ]
  },
  {
   "cell_type": "code",
   "execution_count": 30,
   "metadata": {},
   "outputs": [
    {
     "name": "stdout",
     "output_type": "stream",
     "text": [
      "Top 3 models:\n"
     ]
    },
    {
     "data": {
      "text/plain": [
       "[({'embedding_function': <function __main__.embed_text_sbert_sm(texts)>,\n",
       "   'clean': False,\n",
       "   'max_iter': 1000},\n",
       "  0.8130009998070549),\n",
       " ({'embedding_function': <function __main__.embed_text_sbert_sm(texts)>,\n",
       "   'clean': False,\n",
       "   'max_iter': 2000},\n",
       "  0.8110449565162869),\n",
       " ({'embedding_function': <function __main__.embed_text_sbert_sm(texts)>,\n",
       "   'clean': True,\n",
       "   'max_iter': 1000},\n",
       "  0.8105403484709556)]"
      ]
     },
     "execution_count": 30,
     "metadata": {},
     "output_type": "execute_result"
    }
   ],
   "source": [
    "print('Top 3 models:')\n",
    "sorted(results, key=lambda x: x[1], reverse=True)[:3]"
   ]
  },
  {
   "cell_type": "markdown",
   "metadata": {},
   "source": [
    "### Summary of results\n",
    "\n",
    "We evaluated 2 different sentence embedding methods:\n",
    "* [Spacy document vectors](https://spacy.io/api/doc#vector) - average of word vectors in tweet (96 dimensional model)\n",
    "* [Sentence-BERT](https://github.com/UKPLab/sentence-transformers) - embeds sentence (384 and 768 dimensional models)\n",
    "\n",
    "We tried both raw and cleaned text for each model, fed into a SGD Classifier with maximum 1000 or 2000 iterations.\n",
    "\n",
    "Not surprisingly, the 96-dimensional Spacy model performs quite poorly. The input to our ML model has been downsized from over 1000 dimensions in the BoW or TF-IDF case, to under 100.\n",
    "\n",
    "The 384-dimensional BERT model offers a slight improvement in classification performance vs. BoW:\n",
    "* The F1 macro score increases by around 1 percent.\n",
    "\n",
    "However, we lose the ability to explain what words contributed to the model's prediction. (An embedding-based approach could be made explainable if were to use individual word vectors.)\n",
    "\n",
    "**Given the constraints in this assignment, I would recommend that the client use the simple bag of words model.**"
   ]
  },
  {
   "cell_type": "markdown",
   "metadata": {},
   "source": []
  }
 ],
 "metadata": {
  "kernelspec": {
   "display_name": "Python 3.8.15 ('ec6_exam_2')",
   "language": "python",
   "name": "python3"
  },
  "language_info": {
   "codemirror_mode": {
    "name": "ipython",
    "version": 3
   },
   "file_extension": ".py",
   "mimetype": "text/x-python",
   "name": "python",
   "nbconvert_exporter": "python",
   "pygments_lexer": "ipython3",
   "version": "3.8.15"
  },
  "orig_nbformat": 4,
  "vscode": {
   "interpreter": {
    "hash": "485a77da32ffee83661857550eb34beb7e6f67961c4a6ab47056376d7db20bf9"
   }
  }
 },
 "nbformat": 4,
 "nbformat_minor": 2
}
