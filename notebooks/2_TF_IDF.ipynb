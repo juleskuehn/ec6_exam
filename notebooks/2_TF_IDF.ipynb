{
 "cells": [
  {
   "cell_type": "markdown",
   "metadata": {},
   "source": [
    "# Data Science Fellowship program exam\n",
    "\n",
    "**Machine Learning - Assignment 2: Natural disasters dataset**\n",
    "\n",
    "By: Jules Kuehn\n",
    "\n",
    "Due: 2020-12-03, 6pm Eastern"
   ]
  },
  {
   "cell_type": "markdown",
   "metadata": {},
   "source": [
    "## Task 2: Feature generation and traditional ML model\n",
    "\n",
    "Not implemented, but would be nice:\n",
    "* Common functions moved to python module, to be imported into multiple notebooks.\n",
    "* (Some code is duplicated here from the previous notebook.)"
   ]
  },
  {
   "cell_type": "markdown",
   "metadata": {},
   "source": [
    "### Setup"
   ]
  },
  {
   "cell_type": "code",
   "execution_count": 1,
   "metadata": {},
   "outputs": [
    {
     "name": "stdout",
     "output_type": "stream",
     "text": [
      "Note: you may need to restart the kernel to use updated packages.\n"
     ]
    }
   ],
   "source": [
    "%pip install -r ../requirements.txt -q"
   ]
  },
  {
   "cell_type": "code",
   "execution_count": 2,
   "metadata": {},
   "outputs": [],
   "source": [
    "# Suppress warnings for cleaner output\n",
    "def warn(*args, **kwargs):\n",
    "    pass\n",
    "\n",
    "import warnings\n",
    "warnings.warn = warn\n",
    "\n",
    "import re\n",
    "from itertools import product\n",
    "\n",
    "import matplotlib.pyplot as plt\n",
    "import numpy as np\n",
    "import pandas as pd\n",
    "import spacy\n",
    "from sklearn.ensemble import RandomForestClassifier\n",
    "from sklearn.feature_extraction.text import CountVectorizer, TfidfTransformer\n",
    "from sklearn.linear_model import LogisticRegression, SGDClassifier\n",
    "from sklearn.metrics import (ConfusionMatrixDisplay, classification_report,\n",
    "                             confusion_matrix, f1_score)\n",
    "from sklearn.model_selection import train_test_split\n",
    "from sklearn.naive_bayes import MultinomialNB\n",
    "from sklearn.pipeline import Pipeline\n",
    "from sklearn.preprocessing import StandardScaler\n",
    "from sklearn.svm import SVC, LinearSVC\n",
    "from wordcloud import WordCloud"
   ]
  },
  {
   "cell_type": "markdown",
   "metadata": {},
   "source": [
    "### Import data\n",
    "Use Pandas to import the CSV to a Dataframe. For a larger dataset, I would use Spark for pre-processing steps."
   ]
  },
  {
   "cell_type": "code",
   "execution_count": 3,
   "metadata": {},
   "outputs": [],
   "source": [
    "train_df = pd.read_csv('../data/raw/train.csv')\n",
    "disaster_tweets = train_df[train_df['target'] == 1]['text'].tolist()\n",
    "non_disaster_tweets = train_df[train_df['target'] == 0]['text'].tolist()"
   ]
  },
  {
   "cell_type": "markdown",
   "metadata": {},
   "source": [
    "### TF-IDF feature extraction\n",
    "\n",
    "We will start with the CountVectorizer from the previous notebook, then apply TF-IDF processing.\n",
    "\n",
    "Note that custom pre-processing was found to be unnecessary, so our pipeline begins with the CountVectorizer."
   ]
  },
  {
   "cell_type": "code",
   "execution_count": 4,
   "metadata": {},
   "outputs": [],
   "source": [
    "def create_vectorizer(\n",
    "    non_disaster_tweets,\n",
    "    disaster_tweets,\n",
    "    initial_vocab='all',\n",
    "    remove_n_common_words=5,\n",
    "    min_df=5,\n",
    "    max_features=None,\n",
    "    strip_accents='ascii',\n",
    "    lowercase=True,\n",
    "    ngram_range=(1, 1),\n",
    "    ):\n",
    "    \"\"\"\n",
    "    Create a CountVectorizer for use in a bag-of-words model.\n",
    "    Takes a list of non-disaster tweets and a list of disaster tweets.\n",
    "    Optionally removes some common or uncommon words.\n",
    "    Returns a CountVectorizer with the limited vocabulary.\n",
    "    \"\"\"\n",
    "\n",
    "    if initial_vocab == 'disaster':\n",
    "        initial_vocab_tweets = disaster_tweets\n",
    "    else:\n",
    "        initial_vocab_tweets = non_disaster_tweets + disaster_tweets\n",
    "\n",
    "    # Get vocabulary from tweets (optionally removing uncommon words)\n",
    "    transformer = CountVectorizer(\n",
    "        strip_accents=strip_accents,\n",
    "        lowercase=lowercase,\n",
    "        min_df=min_df,\n",
    "        max_features=max_features,\n",
    "        ngram_range=ngram_range,\n",
    "    ).fit(initial_vocab_tweets)\n",
    "\n",
    "    if remove_n_common_words > 0:\n",
    "        final_vocabulary = transformer.vocabulary_.copy()\n",
    "        # Get the most common words in the non-disaster tweets\n",
    "        transformer = CountVectorizer(\n",
    "            strip_accents=strip_accents,\n",
    "            lowercase=lowercase,\n",
    "            min_df=min_df,\n",
    "            ngram_range=ngram_range,\n",
    "        ).fit(non_disaster_tweets)\n",
    "        bow = transformer.transform(list(non_disaster_tweets) + list(disaster_tweets))\n",
    "        word_freqs = dict(zip(\n",
    "            transformer.get_feature_names_out(),\n",
    "            np.asarray(bow.sum(axis=0))[0]\n",
    "        ))\n",
    "        common_words = sorted(\n",
    "            word_freqs.items(), key=lambda x: x[1], reverse=True\n",
    "        )[:remove_n_common_words]\n",
    "\n",
    "        # Remove most common non-disaster words from disaster tweets vocabulary\n",
    "        for word in common_words:\n",
    "            final_vocabulary.pop(word[0], None)\n",
    "\n",
    "        # Create the final vectorizer with the limited vocabulary\n",
    "        transformer = CountVectorizer(\n",
    "            strip_accents=strip_accents,\n",
    "            lowercase=lowercase,\n",
    "            vocabulary=final_vocabulary.keys(),\n",
    "            ngram_range=ngram_range,\n",
    "        ).fit(disaster_tweets)\n",
    "    \n",
    "    return transformer\n",
    "\n"
   ]
  },
  {
   "cell_type": "markdown",
   "metadata": {},
   "source": [
    "### Model training and evaluation\n",
    "\n",
    "Note that I am not using the test data at this time. I am only using the training data while testing pre-processing hyperparameters.\n",
    "\n",
    "(We will use the test data in the last task of this exam, to compare all models.)\n",
    "\n",
    "This code is largely the same as in notebook 1_BoW, but with the TF-IDF transformer added and manual pre-processing steps removed."
   ]
  },
  {
   "cell_type": "code",
   "execution_count": 5,
   "metadata": {},
   "outputs": [],
   "source": [
    "def evaluate_preprocessing(\n",
    "    train_df,\n",
    "    strip_accents='ascii',\n",
    "    lowercase=True,\n",
    "    initial_vocab='all',\n",
    "    remove_n_common_words=5,\n",
    "    min_df=5,\n",
    "    max_features=None,\n",
    "    verbose=False,\n",
    "    return_artifacts=False,\n",
    "    ngram_range=(1, 1),\n",
    "    use_idf=True,\n",
    "    norm='l2',\n",
    "    smooth_idf=True,\n",
    "    sublinear_tf=False,\n",
    "    clf=LogisticRegression(),\n",
    "    tfidf=True,\n",
    "):\n",
    "\n",
    "    non_disaster_tweets = train_df[train_df['target'] == 0]['text'].tolist()\n",
    "    disaster_tweets = train_df[train_df['target'] == 1]['text'].tolist()\n",
    "\n",
    "    # Create vectorizer with limited vocabulary\n",
    "    vectorizer = create_vectorizer(\n",
    "        non_disaster_tweets,\n",
    "        disaster_tweets,\n",
    "        initial_vocab=initial_vocab,\n",
    "        remove_n_common_words=remove_n_common_words,\n",
    "        min_df=min_df,\n",
    "        max_features=max_features,\n",
    "        strip_accents=strip_accents,\n",
    "        lowercase=lowercase,\n",
    "        ngram_range=ngram_range,\n",
    "    )\n",
    "    \n",
    "    # Fit TF-IDF transformer\n",
    "    all_tweets = train_df['text']\n",
    "    tfidf_transformer = TfidfTransformer(\n",
    "        use_idf=use_idf,\n",
    "        norm=norm,\n",
    "        smooth_idf=smooth_idf,\n",
    "        sublinear_tf=sublinear_tf,\n",
    "    ).fit(vectorizer.transform(all_tweets))\n",
    "\n",
    "    # Create a pipeline to vectorize and apply TF-IDF\n",
    "    # Classifier is passed as an argument for comparison\n",
    "    pipeline = Pipeline([\n",
    "        ('vect', vectorizer),\n",
    "        ('tfidf', tfidf_transformer if tfidf else None),\n",
    "        (\"clf\", clf),\n",
    "    ])\n",
    "\n",
    "\n",
    "    # Split the training data into training and validation sets\n",
    "    X_train = all_tweets\n",
    "    y_train = train_df['target']\n",
    "\n",
    "    X_train, X_val, y_train, y_val = train_test_split(\n",
    "        X_train,\n",
    "        y_train,\n",
    "        test_size=0.2,\n",
    "        random_state=42,\n",
    "    )\n",
    "\n",
    "    pipeline.fit(X_train, y_train)\n",
    "\n",
    "    # Make predictions on the validation set\n",
    "    preds_val = pipeline.predict(X_val)\n",
    "\n",
    "    if verbose:\n",
    "        # Display results on validation set\n",
    "        print(classification_report(y_val, preds_val))\n",
    "        ConfusionMatrixDisplay.from_estimator(pipeline, X_val, y_val, cmap='Blues', normalize='true')\n",
    "    \n",
    "    if return_artifacts:\n",
    "        return pipeline, X_train, X_val, y_train, y_val\n",
    "\n",
    "    # Return f1 macro average score\n",
    "    return f1_score(y_val, preds_val, average='macro')\n"
   ]
  },
  {
   "cell_type": "markdown",
   "metadata": {},
   "source": [
    "### Selecting a model\n",
    "TF-IDF will not necessarily improve performance. Let's evaluate its effects with a variety of SkLearn models.\n"
   ]
  },
  {
   "cell_type": "code",
   "execution_count": 6,
   "metadata": {},
   "outputs": [
    {
     "name": "stdout",
     "output_type": "stream",
     "text": [
      "Best result:\n",
      " ({'clf': LogisticRegression(max_iter=2000, random_state=42), 'tfidf': False, 'ngram_range': (1, 1)}, 0.8046679384895338)\n",
      "              precision    recall  f1-score   support\n",
      "\n",
      "           0       0.81      0.87      0.84       874\n",
      "           1       0.81      0.73      0.77       649\n",
      "\n",
      "    accuracy                           0.81      1523\n",
      "   macro avg       0.81      0.80      0.80      1523\n",
      "weighted avg       0.81      0.81      0.81      1523\n",
      "\n"
     ]
    },
    {
     "data": {
      "text/plain": [
       "0.8046679384895338"
      ]
     },
     "execution_count": 6,
     "metadata": {},
     "output_type": "execute_result"
    },
    {
     "data": {
      "image/png": "[encoded data removed]",
      "text/plain": [
       "<Figure size 640x480 with 2 Axes>"
      ]
     },
     "metadata": {},
     "output_type": "display_data"
    }
   ],
   "source": [
    "def grid_parameters(parameters):\n",
    "    for params in product(*parameters.values()):\n",
    "        yield dict(zip(parameters.keys(), params))\n",
    "\n",
    "parameters = {\n",
    "    'clf': [\n",
    "        LogisticRegression(max_iter=2000, random_state=42),\n",
    "        RandomForestClassifier(max_depth=250, random_state=42), # Informed guess at max_depth\n",
    "        SGDClassifier(max_iter=2000, random_state=42),\n",
    "        SVC(max_iter=2000, random_state=42),\n",
    "        LinearSVC(max_iter=2000, random_state=42),\n",
    "        MultinomialNB(),\n",
    "    ],\n",
    "    'tfidf': [True, False],\n",
    "    'ngram_range': [(1, 1), (1, 2), (1, 3)]\n",
    "}\n",
    "\n",
    "results = []\n",
    "\n",
    "for settings in grid_parameters(parameters):\n",
    "    f1_macro = evaluate_preprocessing(train_df, **settings, verbose=False)\n",
    "    results.append((settings, f1_macro))\n",
    "\n",
    "best_result = max(results, key=lambda x: x[1])\n",
    "print(\"Best result:\\n\", best_result)\n",
    "\n",
    "evaluate_preprocessing(train_df, **best_result[0], verbose=True)"
   ]
  },
  {
   "cell_type": "code",
   "execution_count": 7,
   "metadata": {},
   "outputs": [
    {
     "name": "stdout",
     "output_type": "stream",
     "text": [
      "Top 3 models:\n"
     ]
    },
    {
     "data": {
      "text/plain": [
       "[({'clf': LogisticRegression(max_iter=2000, random_state=42),\n",
       "   'tfidf': False,\n",
       "   'ngram_range': (1, 1)},\n",
       "  0.8046679384895338),\n",
       " ({'clf': LogisticRegression(max_iter=2000, random_state=42),\n",
       "   'tfidf': True,\n",
       "   'ngram_range': (1, 3)},\n",
       "  0.80191495368736),\n",
       " ({'clf': SVC(max_iter=2000, random_state=42),\n",
       "   'tfidf': True,\n",
       "   'ngram_range': (1, 1)},\n",
       "  0.8006556239591698)]"
      ]
     },
     "execution_count": 7,
     "metadata": {},
     "output_type": "execute_result"
    }
   ],
   "source": [
    "print('Top 3 models:')\n",
    "sorted(results, key=lambda x: x[1], reverse=True)[:3]"
   ]
  },
  {
   "cell_type": "markdown",
   "metadata": {},
   "source": [
    "### Summary of results\n",
    "\n",
    "We evaluated the effect of additional feature engineering:\n",
    "* TF-IDF weighting\n",
    "* Bigrams\n",
    "* Trigrams\n",
    "\n",
    "And several different ML models:\n",
    "* Logistic Regression\n",
    "* Random Forest\n",
    "* SGD\n",
    "* SVC\n",
    "* Linear SVC\n",
    "* Multinomial Naive Bayes\n",
    "\n",
    "The best results came from the model we already obtained in the previous notebook:\n",
    "\n",
    "**A simple bag of words model with Logistic Regression.**"
   ]
  },
  {
   "cell_type": "markdown",
   "metadata": {},
   "source": [
    "### Explaining the model\n",
    "\n",
    "*(Copied from previous notebook with modifications to use the Pipeline)*\n",
    "\n",
    "An advantage of the bag of words + logistic regression model is its simplicity.\n",
    "\n",
    "We can simply look up the model coefficients to determine feature importance:\n",
    "* Which words contribute to a classification of \"disaster\" (1) or \"non-disaster\" (0)?\n",
    "\n",
    "There is no need to scale the coefficients here since all the features are from the BoW."
   ]
  },
  {
   "cell_type": "code",
   "execution_count": 8,
   "metadata": {},
   "outputs": [
    {
     "name": "stdout",
     "output_type": "stream",
     "text": [
      "The following words have the highest positive coefficients (disaster):\n",
      "            Coefficients\n",
      "hiroshima       2.445416\n",
      "wildfire        2.359061\n",
      "earthquake      2.220706\n",
      "derailment      2.186881\n",
      "fires           2.132240\n",
      "tornado         1.992465\n",
      "riots           1.907593\n",
      "suicide         1.897605\n",
      "massacre        1.870264\n",
      "floods          1.869637\n",
      "\n",
      "The following words have the most negative coefficients (non-disaster):\n",
      "        Coefficients\n",
      "full       -1.564929\n",
      "better     -1.506215\n",
      "blight     -1.411568\n",
      "ebay       -1.404008\n",
      "bags       -1.243934\n",
      "cake       -1.237400\n",
      "upon       -1.234887\n",
      "show       -1.211611\n",
      "art        -1.197938\n",
      "likely     -1.184574\n"
     ]
    }
   ],
   "source": [
    "pipeline, X_train, X_val, y_train, y_val = evaluate_preprocessing(\n",
    "    train_df, **best_result[0], return_artifacts=True\n",
    ")\n",
    "\n",
    "model_coefficients = pd.DataFrame(\n",
    "   pipeline['clf'].coef_.T,\n",
    "   columns=['Coefficients'], index=pipeline['vect'].get_feature_names_out()\n",
    ")\n",
    "\n",
    "sorted_words = model_coefficients.sort_values('Coefficients', ascending=False)\n",
    "print('The following words have the highest positive coefficients (disaster):')\n",
    "print(sorted_words.head(10).to_string())\n",
    "\n",
    "print('\\nThe following words have the most negative coefficients (non-disaster):')\n",
    "print(sorted_words.tail(10)[::-1].to_string())"
   ]
  },
  {
   "cell_type": "markdown",
   "metadata": {},
   "source": [
    "#### Explaining a single prediction"
   ]
  },
  {
   "cell_type": "code",
   "execution_count": 9,
   "metadata": {},
   "outputs": [],
   "source": [
    "def predict_and_explain(tweet, pipeline, settings):\n",
    "    \"\"\"Predict the class of a tweet and explain the prediction.\"\"\"\n",
    "    bow = pipeline['vect'].transform([tweet])\n",
    "    prediction = pipeline['clf'].predict(bow)[0]\n",
    "    word_importance = []\n",
    "    \n",
    "    # Get words from bow\n",
    "    words = pipeline['vect'].get_feature_names_out()\n",
    "\n",
    "    # Get model coefficients\n",
    "    coefficients = pipeline['clf'].coef_[0]\n",
    "\n",
    "    # Get coefficients for words in the tweet\n",
    "    for i, word in enumerate(words):\n",
    "        if bow[0, i] > 0:\n",
    "            word_importance.append((word, coefficients[i]))\n",
    "\n",
    "    word_importance = sorted(word_importance, key=lambda x: x[1], reverse=True)\n",
    "\n",
    "    print(f'Prediction: {\"disaster\" if prediction == 1 else \"non-disaster\"}\\n')\n",
    "    for word, coefficient in word_importance:\n",
    "        print(f'{word}: {coefficient:.2f}')\n",
    "    \n",
    "    return prediction, word_importance\n"
   ]
  },
  {
   "cell_type": "code",
   "execution_count": 10,
   "metadata": {},
   "outputs": [
    {
     "name": "stdout",
     "output_type": "stream",
     "text": [
      "Japan Marks 70th Anniversary of Hiroshima Atomic Bombing http://t.co/93vqkdFgnr \n",
      "\n",
      "Prediction: disaster\n",
      "\n",
      "hiroshima: 2.45\n",
      "bombing: 1.81\n",
      "japan: 1.50\n",
      "atomic: 1.42\n",
      "marks: 0.43\n",
      "of: 0.21\n",
      "70th: 0.11\n",
      "anniversary: 0.08\n"
     ]
    }
   ],
   "source": [
    "tweet = train_df['text'].sample(1).values[0]\n",
    "print(tweet, '\\n')\n",
    "\n",
    "prediction, word_importance = predict_and_explain(tweet, pipeline, best_result[0])\n"
   ]
  },
  {
   "cell_type": "code",
   "execution_count": null,
   "metadata": {},
   "outputs": [],
   "source": []
  }
 ],
 "metadata": {
  "kernelspec": {
   "display_name": "Python 3.8.15 ('ec6_exam_2')",
   "language": "python",
   "name": "python3"
  },
  "language_info": {
   "codemirror_mode": {
    "name": "ipython",
    "version": 3
   },
   "file_extension": ".py",
   "mimetype": "text/x-python",
   "name": "python",
   "nbconvert_exporter": "python",
   "pygments_lexer": "ipython3",
   "version": "3.8.15"
  },
  "orig_nbformat": 4,
  "vscode": {
   "interpreter": {
    "hash": "485a77da32ffee83661857550eb34beb7e6f67961c4a6ab47056376d7db20bf9"
   }
  }
 },
 "nbformat": 4,
 "nbformat_minor": 2
}
