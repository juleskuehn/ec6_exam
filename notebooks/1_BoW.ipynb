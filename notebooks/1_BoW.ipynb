{
 "cells": [
  {
   "cell_type": "markdown",
   "metadata": {},
   "source": [
    "# Data Science Fellowship program exam\n",
    "\n",
    "**Machine Learning - Assignment 2: Natural disasters dataset**\n",
    "\n",
    "By: Jules Kuehn\n",
    "\n",
    "Due: 2020-12-03, 6pm Eastern"
   ]
  },
  {
   "cell_type": "markdown",
   "metadata": {},
   "source": [
    "## Task 1: Bag of words model"
   ]
  },
  {
   "cell_type": "markdown",
   "metadata": {},
   "source": [
    "### Setup"
   ]
  },
  {
   "cell_type": "code",
   "execution_count": 21,
   "metadata": {},
   "outputs": [
    {
     "name": "stdout",
     "output_type": "stream",
     "text": [
      "Note: you may need to restart the kernel to use updated packages.\n"
     ]
    }
   ],
   "source": [
    "%pip install -r ../requirements.txt -q"
   ]
  },
  {
   "cell_type": "code",
   "execution_count": 22,
   "metadata": {},
   "outputs": [
    {
     "name": "stdout",
     "output_type": "stream",
     "text": [
      "✔ Download and installation successful\n",
      "You can now load the package via spacy.load('en_core_web_sm')\n"
     ]
    }
   ],
   "source": [
    "import sys\n",
    "!{sys.executable} -m spacy download en_core_web_sm -q"
   ]
  },
  {
   "cell_type": "code",
   "execution_count": 66,
   "metadata": {},
   "outputs": [],
   "source": [
    "from itertools import product\n",
    "import re\n",
    "\n",
    "import matplotlib.pyplot as plt\n",
    "import numpy as np\n",
    "import pandas as pd\n",
    "import spacy\n",
    "from sklearn.feature_extraction.text import CountVectorizer\n",
    "from sklearn.linear_model import LogisticRegression\n",
    "from sklearn.metrics import (ConfusionMatrixDisplay, classification_report,\n",
    "                             confusion_matrix)\n",
    "from sklearn.model_selection import train_test_split\n",
    "from wordcloud import WordCloud\n",
    "from sklearn.metrics import f1_score"
   ]
  },
  {
   "cell_type": "markdown",
   "metadata": {},
   "source": [
    "### Import data\n",
    "Use Pandas to import the CSV to a Dataframe. For a larger dataset, I would use Spark for pre-processing steps."
   ]
  },
  {
   "cell_type": "code",
   "execution_count": 24,
   "metadata": {},
   "outputs": [],
   "source": [
    "train_df = pd.read_csv('../data/raw/train.csv')"
   ]
  },
  {
   "cell_type": "markdown",
   "metadata": {},
   "source": [
    "### Preprocessing pipeline\n",
    "Wrap preprocessing steps in a function for reproducibility.\n",
    "\n",
    "Based on EDA in the previous notebook, I have added some manual (optional) steps before CountVectorizer's preprocessor:\n",
    "* Replace numbers with \"replaced_number\"\n",
    "* Replace \"#\" with \"hashtag\"\n",
    "* Replace \"@\" with \"at_symbol\"\n",
    "* Lemmatize with SpaCy NLP\n",
    "\n",
    "Lowercasing and punctuation stripping are handled by CountVectorizer automatically.\n",
    "\n",
    "The tweets appear to be entirely in English. Although there are a lot of spelling variations, I will leave these alone as misspelled words appear to be associated predominantly with non-disaster tweets.\n",
    "\n",
    "Not implemented, but would be nice to try:\n",
    "* Remove URLs, or\n",
    "* Replace URLs with \"url\""
   ]
  },
  {
   "cell_type": "code",
   "execution_count": 90,
   "metadata": {},
   "outputs": [],
   "source": [
    "NLP = spacy.load('en_core_web_sm', disable=['parser', 'ner'])\n",
    "\n",
    "def preprocess_texts(\n",
    "    texts,\n",
    "    replace_numbers=True,\n",
    "    replace_mentions=True,\n",
    "    replace_hashtags=True,\n",
    "    lemmatize=True,\n",
    "    remove_stopwords=True,\n",
    "):\n",
    "    \"\"\"\n",
    "    Preprocess texts for use in a bag-of-words model.\n",
    "    Takes a list or Series of texts and returns a list of preprocessed texts.\n",
    "    \"\"\"\n",
    "    if isinstance(texts, pd.Series):\n",
    "        texts = texts.tolist()\n",
    "    \n",
    "    for i, text in enumerate(texts):\n",
    "        if replace_numbers:\n",
    "            # Replace any substring of digits using regex\n",
    "            text = re.sub(r'\\d+', ' replaced_number ', text)\n",
    "        if replace_mentions:\n",
    "            text = text.replace('@', ' at_symbol ')\n",
    "        if replace_hashtags:\n",
    "            text = text.replace('#', ' hashtag ')\n",
    "        if lemmatize:\n",
    "            if remove_stopwords:\n",
    "                text = ' '.join(\n",
    "                    [token.lemma_ for token in NLP(text) if not token.is_stop]\n",
    "                )\n",
    "            else:\n",
    "                text = ' '.join([token.lemma_ for token in NLP(text)])\n",
    "        texts[i] = text\n",
    "    return texts\n"
   ]
  },
  {
   "cell_type": "markdown",
   "metadata": {},
   "source": [
    "#### Limit Vectorizer vocabulary\n",
    "\n",
    "Limit the vocabulary to words which are likely to be important in determining whether a tweet is disaster-related.\n",
    "\n",
    "* Lemmatizing and removing stopwords (already done in pre-processing).\n",
    "* Use CountVectorizer's max_df and min_df parameters.\n",
    "* Manually remove words which are common in both disaster and non-disaster tweets.\n",
    "\n",
    "Note that based on EDA, the dataset classes are fairly balanced so there is no need to rebalance here.\n",
    "\n",
    "Not implemented, but would be nice to try:\n",
    "* binary=True option on CountVectorizer"
   ]
  },
  {
   "cell_type": "code",
   "execution_count": 117,
   "metadata": {},
   "outputs": [],
   "source": [
    "def create_vectorizer(\n",
    "    non_disaster_tweets,\n",
    "    disaster_tweets,\n",
    "    initial_vocab='disaster',\n",
    "    remove_n_common_words=5,\n",
    "    min_df=5,\n",
    "    max_features=None,\n",
    "    strip_accents=None,\n",
    "    lowercase=True,\n",
    "    ):\n",
    "    \"\"\"\n",
    "    Create a CountVectorizer for use in a bag-of-words model.\n",
    "    Takes a list of non-disaster tweets and a list of disaster tweets.\n",
    "    Optionally removes some common or uncommon words.\n",
    "    Returns a CountVectorizer with the limited vocabulary.\n",
    "    \"\"\"\n",
    "\n",
    "    # Get vocabulary from tweets (optionally removing uncommon words)\n",
    "    if initial_vocab == 'disaster':\n",
    "        initial_vocab_tweets = disaster_tweets\n",
    "    else:\n",
    "        initial_vocab_tweets = non_disaster_tweets + disaster_tweets\n",
    "\n",
    "    transformer = CountVectorizer(\n",
    "        strip_accents=strip_accents,\n",
    "        lowercase=lowercase,\n",
    "        min_df=min_df,\n",
    "        max_features=max_features,\n",
    "    ).fit(initial_vocab_tweets)\n",
    "\n",
    "    if remove_n_common_words > 0:\n",
    "        final_vocabulary = transformer.vocabulary_.copy()\n",
    "        # Get the most common words in non-disaster tweets\n",
    "        transformer = CountVectorizer(\n",
    "            strip_accents=strip_accents,\n",
    "            lowercase=lowercase,\n",
    "            min_df=min_df,\n",
    "        ).fit(non_disaster_tweets)\n",
    "        bow = transformer.transform(list(non_disaster_tweets) + list(disaster_tweets))\n",
    "        word_freqs = dict(zip(\n",
    "            transformer.get_feature_names_out(),\n",
    "            np.asarray(bow.sum(axis=0))[0]\n",
    "        ))\n",
    "        common_words = sorted(\n",
    "            word_freqs.items(), key=lambda x: x[1], reverse=True\n",
    "        )[:remove_n_common_words]\n",
    "\n",
    "        # Remove most common non-disaster words from disaster tweets vocabulary\n",
    "        for word in common_words:\n",
    "            final_vocabulary.pop(word[0], None)\n",
    "\n",
    "        # Create the final vectorizer with the limited vocabulary\n",
    "        transformer = CountVectorizer(\n",
    "            strip_accents=strip_accents,\n",
    "            lowercase=lowercase,\n",
    "            vocabulary=final_vocabulary.keys(),\n",
    "        ).fit(disaster_tweets)\n",
    "    \n",
    "    return transformer\n"
   ]
  },
  {
   "cell_type": "code",
   "execution_count": 118,
   "metadata": {},
   "outputs": [],
   "source": [
    "def print_vocab_details(transformer, texts):\n",
    "    print(len(transformer.vocabulary_),\n",
    "        'words in vocabulary')\n",
    "    bow = transformer.transform(texts)\n",
    "    word_freqs = dict(zip(\n",
    "        transformer.get_feature_names_out(),\n",
    "        np.asarray(bow.sum(axis=0))[0]\n",
    "    ))\n",
    "\n",
    "    common_words = sorted(\n",
    "        word_freqs.items(), key=lambda x: x[1], reverse=True\n",
    "    )[:20]\n",
    "    print('Top 20 common words in vocabulary for these texts:')\n",
    "    for i, word in enumerate(common_words):\n",
    "        print(f'{i + 1}. {word[0]}: {word[1]}')\n"
   ]
  },
  {
   "cell_type": "markdown",
   "metadata": {},
   "source": [
    "#### Create the vectorizer\n",
    "\n",
    "Use the default values for the parameters for now.\n"
   ]
  },
  {
   "cell_type": "code",
   "execution_count": 119,
   "metadata": {},
   "outputs": [
    {
     "name": "stdout",
     "output_type": "stream",
     "text": [
      "1228 words in vocabulary\n",
      "Top 20 common words in vocabulary for these texts:\n",
      "1. fire: 265\n",
      "2. news: 150\n",
      "3. kill: 149\n",
      "4. amp: 135\n",
      "5. https: 134\n",
      "6. disaster: 122\n",
      "7. california: 115\n",
      "8. crash: 112\n",
      "9. year: 112\n",
      "10. suicide: 112\n",
      "11. police: 109\n",
      "12. people: 106\n",
      "13. attack: 105\n",
      "14. home: 104\n",
      "15. family: 103\n",
      "16. train: 101\n",
      "17. like: 101\n",
      "18. bomb: 100\n",
      "19. hiroshima: 94\n",
      "20. storm: 93\n"
     ]
    }
   ],
   "source": [
    "train_df['processed_text'] = preprocess_texts(train_df['text'])\n",
    "\n",
    "disaster_tweets = train_df[train_df['target'] == 1]['processed_text'].tolist()\n",
    "non_disaster_tweets = train_df[train_df['target'] == 0]['processed_text'].tolist()\n",
    "\n",
    "transformer = create_vectorizer(non_disaster_tweets, disaster_tweets)\n",
    "\n",
    "print_vocab_details(transformer, disaster_tweets)"
   ]
  },
  {
   "cell_type": "markdown",
   "metadata": {},
   "source": [
    "### Model training and evaluation\n",
    "\n",
    "Note that I am not using the test data at this time. I am only using the training data while testing pre-processing hyperparameters.\n",
    "\n",
    "(We will use the test data in the last task of this exam, to compare all models.)\n",
    "\n",
    "I realize the assignment stated not to spend time tuning hyperparameters. I am operating on the assumption that what was meant was ML model hyperparameters. I am evaluating my **preprocessing hyperparameters** to ensure I have made the right decisions."
   ]
  },
  {
   "cell_type": "markdown",
   "metadata": {},
   "source": [
    "#### Evaluate pre-processing steps\n",
    "\n",
    "Combine the above steps into a function which we can repeatedly call to evaluate f1 macro average score, which is suitable for this application."
   ]
  },
  {
   "cell_type": "code",
   "execution_count": 124,
   "metadata": {},
   "outputs": [],
   "source": [
    "def evaluate_preprocessing(\n",
    "    train_df,\n",
    "    replace_numbers=True,\n",
    "    replace_mentions=True,\n",
    "    replace_hashtags=True,\n",
    "    lemmatize=False,\n",
    "    remove_stopwords=True,\n",
    "    strip_accents=None,\n",
    "    lowercase=True,\n",
    "    initial_vocab='disaster',\n",
    "    remove_n_common_words=5,\n",
    "    min_df=5,\n",
    "    max_features=None,\n",
    "    verbose=False,\n",
    "    return_artifacts=False,\n",
    "):\n",
    "    # Preprocess texts before creating vectorizer\n",
    "    train_df['processed_text'] = preprocess_texts(\n",
    "        train_df['text'],\n",
    "        replace_numbers=replace_numbers,\n",
    "        replace_mentions=replace_mentions,\n",
    "        replace_hashtags=replace_hashtags,\n",
    "        lemmatize=lemmatize,\n",
    "        remove_stopwords=remove_stopwords,\n",
    "    )\n",
    "\n",
    "    disaster_tweets = train_df[train_df['target'] == 1]['processed_text'].tolist()\n",
    "    non_disaster_tweets = train_df[train_df['target'] == 0]['processed_text'].tolist()\n",
    "\n",
    "    # Create vectorizer with limited vocabulary based on preprocessed texts\n",
    "    transformer = create_vectorizer(\n",
    "        non_disaster_tweets,\n",
    "        disaster_tweets,\n",
    "        initial_vocab=initial_vocab,\n",
    "        remove_n_common_words=remove_n_common_words,\n",
    "        min_df=min_df,\n",
    "        max_features=max_features,\n",
    "        strip_accents=strip_accents,\n",
    "        lowercase=lowercase,\n",
    "    )\n",
    "\n",
    "    # Split the training data into training and validation sets\n",
    "    X_train = transformer.transform(train_df['processed_text'])\n",
    "    y_train = train_df['target']\n",
    "\n",
    "    X_train, X_val, y_train, y_val = train_test_split(\n",
    "        X_train,\n",
    "        y_train,\n",
    "        test_size=0.2,\n",
    "        random_state=42,\n",
    "    )\n",
    "\n",
    "    # Create a basic bag of words model using a logistic regression classifier\n",
    "    model = LogisticRegression(max_iter=1000, random_state=42)\n",
    "    model.fit(X_train, y_train)\n",
    "\n",
    "    # Make predictions on the validation set\n",
    "    preds_val = model.predict(X_val)\n",
    "\n",
    "    if verbose:\n",
    "        # Display results on validation set\n",
    "        print('LogisticRegression:')\n",
    "        print(classification_report(y_val, preds_val))\n",
    "        ConfusionMatrixDisplay.from_estimator(model, X_val, y_val, cmap='Blues', normalize='true')\n",
    "    \n",
    "    if return_artifacts:\n",
    "        return transformer, model, X_train, X_val, y_train, y_val\n",
    "\n",
    "    # Return f1 macro average score\n",
    "    return f1_score(y_val, preds_val, average='macro')\n"
   ]
  },
  {
   "cell_type": "code",
   "execution_count": 121,
   "metadata": {},
   "outputs": [
    {
     "name": "stdout",
     "output_type": "stream",
     "text": [
      "Best result:\n",
      " ({'lemmatize': False, 'remove_stopwords': False, 'strip_accents': 'ascii', 'lowercase': True}, 0.794162667094126)\n",
      "LogisticRegression:\n",
      "              precision    recall  f1-score   support\n",
      "\n",
      "           0       0.80      0.87      0.84       874\n",
      "           1       0.81      0.71      0.75       649\n",
      "\n",
      "    accuracy                           0.80      1523\n",
      "   macro avg       0.80      0.79      0.79      1523\n",
      "weighted avg       0.80      0.80      0.80      1523\n",
      "\n"
     ]
    },
    {
     "data": {
      "text/plain": [
       "0.794162667094126"
      ]
     },
     "execution_count": 121,
     "metadata": {},
     "output_type": "execute_result"
    },
    {
     "data": {
      "image/png": "[encoded data removed]",
      "text/plain": [
       "<Figure size 640x480 with 2 Axes>"
      ]
     },
     "metadata": {},
     "output_type": "display_data"
    }
   ],
   "source": [
    "# Rather than do a complete grid search, we'll start with a few\n",
    "# combinations of preprocessing steps\n",
    "preprocessing_settings = [\n",
    "    {'lemmatize': True}, # lemmatization (and stopword removal)\n",
    "    {'lemmatize': True, 'remove_stopwords': False}, # lemmatization only\n",
    "    # Otherwise, no lemmatization or stopword removal\n",
    "    {'lemmatize': False, 'remove_stopwords': False},\n",
    "    {'lemmatize': False, 'remove_stopwords': False, 'strip_accents': 'ascii', 'lowercase': True},\n",
    "    {'lemmatize': False, 'remove_stopwords': False, 'strip_accents': 'ascii', 'lowercase': False},\n",
    "]\n",
    "\n",
    "results = []\n",
    "\n",
    "for settings in preprocessing_settings:\n",
    "    f1_macro = evaluate_preprocessing(train_df, **settings, verbose=False)\n",
    "    results.append((settings, f1_macro))\n",
    "\n",
    "best_result = max(results, key=lambda x: x[1])\n",
    "print(\"Best result:\\n\", best_result)\n",
    "\n",
    "evaluate_preprocessing(train_df, **best_result[0], verbose=True)"
   ]
  },
  {
   "cell_type": "code",
   "execution_count": 122,
   "metadata": {},
   "outputs": [
    {
     "name": "stdout",
     "output_type": "stream",
     "text": [
      "Best result:\n",
      " ({'initial_vocab': 'all', 'lemmatize': False, 'strip_accents': 'ascii', 'lowercase': True, 'replace_numbers': False, 'replace_mentions': False, 'replace_hashtags': False, 'remove_n_common_words': 5, 'min_df': 5, 'max_features': None}, 0.8046679384895338)\n",
      "LogisticRegression:\n",
      "              precision    recall  f1-score   support\n",
      "\n",
      "           0       0.81      0.87      0.84       874\n",
      "           1       0.81      0.73      0.77       649\n",
      "\n",
      "    accuracy                           0.81      1523\n",
      "   macro avg       0.81      0.80      0.80      1523\n",
      "weighted avg       0.81      0.81      0.81      1523\n",
      "\n"
     ]
    },
    {
     "data": {
      "text/plain": [
       "0.8046679384895338"
      ]
     },
     "execution_count": 122,
     "metadata": {},
     "output_type": "execute_result"
    },
    {
     "data": {
      "image/png": "[encoded data removed]",
      "text/plain": [
       "<Figure size 640x480 with 2 Axes>"
      ]
     },
     "metadata": {},
     "output_type": "display_data"
    }
   ],
   "source": [
    "# Lemmatization is expensive, and doesn't seem to help\n",
    "# Stripping accents does help, and so does lowercasing\n",
    "# Keeping these options fixed...\n",
    "# Let's try the other preprocessing combinations in a grid search\n",
    "def grid_parameters(parameters):\n",
    "    for params in product(*parameters.values()):\n",
    "        yield dict(zip(parameters.keys(), params))\n",
    "\n",
    "parameters = {\n",
    "    'lemmatize': [False],\n",
    "    'strip_accents': ['ascii'],\n",
    "    'lowercase': [True],\n",
    "    'initial_vocab': ['disaster', 'all'],\n",
    "    'replace_numbers': [True, False],\n",
    "    'replace_mentions': [True, False],\n",
    "    'replace_hashtags': [True, False],\n",
    "    'remove_n_common_words': [0, 5, 20],\n",
    "    'min_df': [1, 5, 10],\n",
    "    'max_features': [None, 500, 1000],\n",
    "}\n",
    "\n",
    "for settings in grid_parameters(parameters):\n",
    "    f1_macro = evaluate_preprocessing(train_df, **settings, verbose=False)\n",
    "    results.append((settings, f1_macro))\n",
    "\n",
    "best_result = max(results, key=lambda x: x[1])\n",
    "print(\"Best result:\\n\", best_result)\n",
    "\n",
    "evaluate_preprocessing(train_df, **best_result[0], verbose=True)"
   ]
  },
  {
   "cell_type": "code",
   "execution_count": null,
   "metadata": {},
   "outputs": [],
   "source": [
    "sorted(results, key=lambda x: x[1], reverse=True)"
   ]
  },
  {
   "cell_type": "markdown",
   "metadata": {},
   "source": [
    "#### Summary of preprocessing results\n",
    "\n",
    "The following preprocessing steps yielded the best results:\n",
    "* Create a vocabulary based on all tweets, not just disaster tweets.\n",
    "* Use CountVectorizer's built-in preprocessing to lowercase and strip ASCII punctuation.\n",
    "* Remove the 5 most common words in non-disaster tweets.\n",
    "* Remove words with less than 5 instances in the corpus.\n",
    "\n",
    "Other preprocessing was evaluated, but decreased performance:\n",
    "* Replacing numbers, @mentions or #hashtags\n",
    "* Lemmatizing\n",
    "* Removing stopwords\n",
    "* Creating vocabulary based on disaster tweets only\n",
    "* Limiting the size of the vocabulary to a fixed number (e.g. 1000)"
   ]
  },
  {
   "cell_type": "markdown",
   "metadata": {},
   "source": [
    "### Explaining the model\n",
    "\n",
    "An advantage of the bag of words + logistic regression model is its simplicity.\n",
    "\n",
    "We can simply look up the model coefficients to determine feature importance:\n",
    "* Which words contribute to a classification of \"disaster\" (1) or \"non-disaster\" (0)?\n",
    "\n",
    "There is no need to scale the coefficients here since all the features are from the BoW."
   ]
  },
  {
   "cell_type": "code",
   "execution_count": 169,
   "metadata": {},
   "outputs": [
    {
     "name": "stdout",
     "output_type": "stream",
     "text": [
      "The following words have the highest positive coefficients (disaster):\n",
      "            Coefficients\n",
      "hiroshima       2.442601\n",
      "wildfire        2.319744\n",
      "earthquake      2.172741\n",
      "fires           2.144314\n",
      "derailment      2.070524\n",
      "tornado         1.952837\n",
      "massacre        1.893210\n",
      "riots           1.889100\n",
      "suicide         1.869176\n",
      "bombing         1.836446\n",
      "\n",
      "The following words have the most negative coefficients (non-disaster):\n",
      "        Coefficients\n",
      "ebay       -1.512722\n",
      "full       -1.474744\n",
      "better     -1.450262\n",
      "blight     -1.395429\n",
      "cake       -1.289771\n",
      "upon       -1.285538\n",
      "bags       -1.246251\n",
      "likely     -1.221078\n",
      "also       -1.190987\n",
      "art        -1.183496\n"
     ]
    }
   ],
   "source": [
    "transformer, model, X_train, X_val, y_train, y_val = evaluate_preprocessing(\n",
    "    train_df, **best_result[0], return_artifacts=True\n",
    ")\n",
    "\n",
    "model_coefficients = pd.DataFrame(\n",
    "   model.coef_.T,\n",
    "   columns=['Coefficients'], index=transformer.get_feature_names_out()\n",
    ")\n",
    "\n",
    "sorted_words = model_coefficients.sort_values('Coefficients', ascending=False)\n",
    "print('The following words have the highest positive coefficients (disaster):')\n",
    "print(sorted_words.head(10).to_string())\n",
    "\n",
    "print('\\nThe following words have the most negative coefficients (non-disaster):')\n",
    "print(sorted_words.tail(10)[::-1].to_string())"
   ]
  },
  {
   "cell_type": "markdown",
   "metadata": {},
   "source": [
    "#### Explaining a single prediction"
   ]
  },
  {
   "cell_type": "code",
   "execution_count": 165,
   "metadata": {},
   "outputs": [],
   "source": [
    "def predict_and_explain(tweet, model, transformer, settings):\n",
    "    preprocessed_tweet = preprocess_texts(\n",
    "        [tweet],\n",
    "        replace_numbers=settings.pop('replace_numbers', True),\n",
    "        replace_mentions=settings.pop('replace_mentions', True),\n",
    "        replace_hashtags=settings.pop('replace_hashtags', True),\n",
    "        lemmatize=settings.pop('lemmatize', True),\n",
    "        remove_stopwords=settings.pop('remove_stopwords', True),\n",
    "    )[0]\n",
    "    bow = transformer.transform([preprocessed_tweet])\n",
    "    prediction = model.predict(bow)[0]\n",
    "    word_importance = []\n",
    "    \n",
    "    # Get words from bow\n",
    "    words = transformer.get_feature_names_out()\n",
    "\n",
    "    # Get model coefficients\n",
    "    coefficients = model.coef_[0]\n",
    "\n",
    "    # Get coefficients for words in the tweet\n",
    "    for i, word in enumerate(words):\n",
    "        if bow[0, i] > 0:\n",
    "            word_importance.append((word, coefficients[i]))\n",
    "\n",
    "    word_importance = sorted(word_importance, key=lambda x: x[1], reverse=True)\n",
    "\n",
    "    print(f'Prediction: {\"disaster\" if prediction == 1 else \"non-disaster\"}\\n')\n",
    "    for word, coefficient in word_importance:\n",
    "        print(f'{word}: {coefficient:.2f}')\n",
    "    \n",
    "    return prediction, word_importance\n"
   ]
  },
  {
   "cell_type": "code",
   "execution_count": 172,
   "metadata": {},
   "outputs": [
    {
     "name": "stdout",
     "output_type": "stream",
     "text": [
      "Latest : Trains derailment: 'It's the freakiest of freak accidents' - The Indian Express: The Indi... http://t.co/iLdbeJe225 #IndianNews \n",
      "\n",
      "Prediction: disaster\n",
      "\n",
      "derailment: 2.07\n",
      "train: 1.22\n",
      "accident: 1.13\n",
      "indian: 0.75\n",
      "express: 0.51\n",
      "late: 0.27\n",
      "freakiest: 0.17\n",
      "freak: 0.13\n"
     ]
    }
   ],
   "source": [
    "tweet = train_df['text'].sample(1).values[0]\n",
    "print(tweet, '\\n')\n",
    "\n",
    "prediction, word_importance = predict_and_explain(tweet, model, transformer, best_result[0])\n"
   ]
  },
  {
   "cell_type": "code",
   "execution_count": null,
   "metadata": {},
   "outputs": [],
   "source": []
  }
 ],
 "metadata": {
  "kernelspec": {
   "display_name": "Python 3.10.8 ('ec6_exam')",
   "language": "python",
   "name": "python3"
  },
  "language_info": {
   "codemirror_mode": {
    "name": "ipython",
    "version": 3
   },
   "file_extension": ".py",
   "mimetype": "text/x-python",
   "name": "python",
   "nbconvert_exporter": "python",
   "pygments_lexer": "ipython3",
   "version": "3.10.8"
  },
  "orig_nbformat": 4,
  "vscode": {
   "interpreter": {
    "hash": "32d7a0e0701bdeeaab07027fb8273d1e6dc5f66c0a91a8b21fdaab4a83de9cf5"
   }
  }
 },
 "nbformat": 4,
 "nbformat_minor": 2
}
